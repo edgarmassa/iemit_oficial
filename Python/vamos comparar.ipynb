{
 "cells": [
  {
   "cell_type": "code",
   "execution_count": 1,
   "metadata": {},
   "outputs": [],
   "source": [
    "import pandas as pd"
   ]
  },
  {
   "cell_type": "code",
   "execution_count": 2,
   "metadata": {},
   "outputs": [],
   "source": [
    "planilha1 = pd.read_excel('tabela_vendas.xlsx')\n",
    "planilha2 = pd.read_excel('tabela_vendas_nova.xlsx')"
   ]
  },
  {
   "cell_type": "code",
   "execution_count": 3,
   "metadata": {},
   "outputs": [
    {
     "data": {
      "text/html": [
       "<div>\n",
       "<style scoped>\n",
       "    .dataframe tbody tr th:only-of-type {\n",
       "        vertical-align: middle;\n",
       "    }\n",
       "\n",
       "    .dataframe tbody tr th {\n",
       "        vertical-align: top;\n",
       "    }\n",
       "\n",
       "    .dataframe thead th {\n",
       "        text-align: right;\n",
       "    }\n",
       "</style>\n",
       "<table border=\"1\" class=\"dataframe\">\n",
       "  <thead>\n",
       "    <tr style=\"text-align: right;\">\n",
       "      <th></th>\n",
       "      <th>ID_Venda</th>\n",
       "      <th>Data</th>\n",
       "      <th>Cliente</th>\n",
       "      <th>Quantidade</th>\n",
       "      <th>Preco_Unitario</th>\n",
       "      <th>Desconto</th>\n",
       "    </tr>\n",
       "  </thead>\n",
       "  <tbody>\n",
       "    <tr>\n",
       "      <th>0</th>\n",
       "      <td>1</td>\n",
       "      <td>2025-02-04</td>\n",
       "      <td>Cliente_17</td>\n",
       "      <td>7</td>\n",
       "      <td>316.57</td>\n",
       "      <td>29.00</td>\n",
       "    </tr>\n",
       "    <tr>\n",
       "      <th>1</th>\n",
       "      <td>2</td>\n",
       "      <td>2024-03-26</td>\n",
       "      <td>Cliente_9</td>\n",
       "      <td>6</td>\n",
       "      <td>441.61</td>\n",
       "      <td>46.99</td>\n",
       "    </tr>\n",
       "  </tbody>\n",
       "</table>\n",
       "</div>"
      ],
      "text/plain": [
       "   ID_Venda        Data     Cliente  Quantidade  Preco_Unitario  Desconto\n",
       "0         1  2025-02-04  Cliente_17           7          316.57     29.00\n",
       "1         2  2024-03-26   Cliente_9           6          441.61     46.99"
      ]
     },
     "execution_count": 3,
     "metadata": {},
     "output_type": "execute_result"
    }
   ],
   "source": [
    "planilha1"
   ]
  },
  {
   "cell_type": "code",
   "execution_count": null,
   "metadata": {},
   "outputs": [
    {
     "name": "stdout",
     "output_type": "stream",
     "text": [
      "A s   c o l u n a s   { ' D e s c o n t o ' ,   ' P r e c o _ U n i t a r i o ' }   e s t ã o   f a l t a n d o   a o   n o v o   a r q u i v o .\n"
     ]
    }
   ],
   "source": [
    "if set(planilha1.columns) == set(planilha2.columns):\n",
    "    print('A estrutura é a mesma! TA ÓTIMO')\n",
    "else:\n",
    "    colunas_faltantes = set(planilha1.columns) - set(planilha2.columns)\n",
    "    colunas_adicionais =  set(planilha2.columns) - set(planilha1.columns)\n",
    "\n",
    "    if colunas_faltantes:\n",
    "        print(f'As colunas {colunas_faltantes} estão faltando ao novo arquivo.')\n",
    "    if colunas_adicionais:\n",
    "        print(f'As colunas {colunas_adicionais} foram adicionadas ao novo arquivo')"
   ]
  },
  {
   "cell_type": "code",
   "execution_count": 7,
   "metadata": {},
   "outputs": [
    {
     "name": "stdout",
     "output_type": "stream",
     "text": [
      "As colunas Desconto, Preco_Unitario estão faltando ao novo arquivo.\n"
     ]
    }
   ],
   "source": [
    "if set(planilha1.columns) == set(planilha2.columns):\n",
    "    print('A estrutura é a mesma! TA ÓTIMO')\n",
    "else:\n",
    "    colunas_faltantes = set(planilha1.columns) - set(planilha2.columns)\n",
    "    colunas_adicionais = set(planilha2.columns) - set(planilha1.columns)\n",
    "\n",
    "    if colunas_faltantes:\n",
    "        print(f'As colunas {\", \".join(colunas_faltantes)} estão faltando ao novo arquivo.')\n",
    "    if colunas_adicionais:\n",
    "        print(f'As colunas {\", \".join(colunas_adicionais)} foram adicionadas ao novo arquivo.')\n"
   ]
  },
  {
   "cell_type": "code",
   "execution_count": 8,
   "metadata": {},
   "outputs": [
    {
     "name": "stdout",
     "output_type": "stream",
     "text": [
      "As colunas:\n",
      "\n",
      "Desconto\n",
      "Preco_Unitario\n",
      "\n",
      "Estão faltando ao novo arquivo.\n"
     ]
    }
   ],
   "source": [
    "if set(planilha1.columns) == set(planilha2.columns):\n",
    "    print('A estrutura é a mesma! TA ÓTIMO')\n",
    "else:\n",
    "    colunas_faltantes = set(planilha1.columns) - set(planilha2.columns)\n",
    "    colunas_adicionais = set(planilha2.columns) - set(planilha1.columns)\n",
    "\n",
    "    if colunas_faltantes:\n",
    "        print(f'As colunas:\\n\\n{chr(10).join(colunas_faltantes)}\\n\\nEstão faltando ao novo arquivo.')\n",
    "\n",
    "    if colunas_adicionais:\n",
    "        print(f'As colunas:\\n\\n{chr(10).join(colunas_adicionais)}\\n\\nForam adicionadas ao novo arquivo.')\n"
   ]
  }
 ],
 "metadata": {
  "kernelspec": {
   "display_name": ".venv",
   "language": "python",
   "name": "python3"
  },
  "language_info": {
   "codemirror_mode": {
    "name": "ipython",
    "version": 3
   },
   "file_extension": ".py",
   "mimetype": "text/x-python",
   "name": "python",
   "nbconvert_exporter": "python",
   "pygments_lexer": "ipython3",
   "version": "3.10.11"
  }
 },
 "nbformat": 4,
 "nbformat_minor": 2
}
