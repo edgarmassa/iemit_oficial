{
 "cells": [
  {
   "cell_type": "code",
   "execution_count": 9,
   "id": "bc8443f6",
   "metadata": {},
   "outputs": [],
   "source": [
    "import requests\n",
    "import qrcode"
   ]
  },
  {
   "cell_type": "code",
   "execution_count": 12,
   "id": "e4d51e4a",
   "metadata": {},
   "outputs": [],
   "source": [
    "url_tempo = \"http://www.youtube.com/@IEMITOficial\"\n",
    "try:\n",
    "    response = requests.get(url_tempo)\n",
    "    if response.status_code == 200:\n",
    "        qr = qrcode.make(url_tempo)\n",
    "        qr.save(\"qr_iemit.png\")\n",
    "        qr.show()\n",
    "    else:\n",
    "        print('Não foi possível obter os dados')\n",
    "\n",
    "except Exception as e:\n",
    "    print(f\"Erro ao Acessar API: {e}\")"
   ]
  }
 ],
 "metadata": {
  "kernelspec": {
   "display_name": ".venv",
   "language": "python",
   "name": "python3"
  },
  "language_info": {
   "codemirror_mode": {
    "name": "ipython",
    "version": 3
   },
   "file_extension": ".py",
   "mimetype": "text/x-python",
   "name": "python",
   "nbconvert_exporter": "python",
   "pygments_lexer": "ipython3",
   "version": "3.10.11"
  }
 },
 "nbformat": 4,
 "nbformat_minor": 5
}
