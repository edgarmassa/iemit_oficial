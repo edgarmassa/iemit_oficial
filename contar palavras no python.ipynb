{
 "cells": [
  {
   "cell_type": "code",
   "execution_count": 1,
   "id": "0f8414a1",
   "metadata": {},
   "outputs": [
    {
     "data": {
      "text/plain": [
       "'o rato roeu a roupa do rei de roma'"
      ]
     },
     "execution_count": 1,
     "metadata": {},
     "output_type": "execute_result"
    }
   ],
   "source": [
    "frase = \"o rato roeu a roupa do rei de roma\"\n",
    "frase"
   ]
  },
  {
   "cell_type": "code",
   "execution_count": 2,
   "id": "cadf8b97",
   "metadata": {},
   "outputs": [
    {
     "name": "stdout",
     "output_type": "stream",
     "text": [
      "Sua frase tem 9 palavras.\n"
     ]
    }
   ],
   "source": [
    "quantidade = len( frase.split() )\n",
    "print(f\"Sua frase tem {quantidade} palavras.\")"
   ]
  }
 ],
 "metadata": {
  "kernelspec": {
   "display_name": "Python 3",
   "language": "python",
   "name": "python3"
  },
  "language_info": {
   "codemirror_mode": {
    "name": "ipython",
    "version": 3
   },
   "file_extension": ".py",
   "mimetype": "text/x-python",
   "name": "python",
   "nbconvert_exporter": "python",
   "pygments_lexer": "ipython3",
   "version": "3.10.11"
  }
 },
 "nbformat": 4,
 "nbformat_minor": 5
}
