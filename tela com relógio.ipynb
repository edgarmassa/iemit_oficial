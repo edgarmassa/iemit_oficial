{
 "cells": [
  {
   "cell_type": "code",
   "execution_count": null,
   "id": "e936383b",
   "metadata": {},
   "outputs": [
    {
     "name": "stderr",
     "output_type": "stream",
     "text": [
      "Exception in Tkinter callback\n",
      "Traceback (most recent call last):\n",
      "  File \"C:\\Users\\edgar\\AppData\\Local\\Programs\\Python\\Python310\\lib\\tkinter\\__init__.py\", line 1919, in __call__\n",
      "    if self.subst:\n",
      "KeyboardInterrupt\n"
     ]
    }
   ],
   "source": [
    "from time import strftime\n",
    "from tkinter import Label, Tk\n",
    "\n",
    "janela = Tk()\n",
    "janela.title(\"Relógio Digital\")\n",
    "janela.geometry(\"250x100\")\n",
    "janela.configure(bg=\"black\")\n",
    "\n",
    "def mostrar_hora():\n",
    "    hora = strftime('%H:%M:%S')\n",
    "    label.config(text=hora)\n",
    "    label.after(1000, mostrar_hora)\n",
    "\n",
    "label = Label(janela, font=(\"Arial\", 40), bg=\"black\", fg=\"lime\")\n",
    "label.pack(anchor='center')\n",
    "\n",
    "mostrar_hora()\n",
    "janela.mainloop()"
   ]
  }
 ],
 "metadata": {
  "kernelspec": {
   "display_name": ".venv",
   "language": "python",
   "name": "python3"
  },
  "language_info": {
   "codemirror_mode": {
    "name": "ipython",
    "version": 3
   },
   "file_extension": ".py",
   "mimetype": "text/x-python",
   "name": "python",
   "nbconvert_exporter": "python",
   "pygments_lexer": "ipython3",
   "version": "3.10.11"
  }
 },
 "nbformat": 4,
 "nbformat_minor": 5
}
