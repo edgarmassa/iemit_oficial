{
 "cells": [
  {
   "cell_type": "code",
   "execution_count": 7,
   "id": "6b795d5b",
   "metadata": {},
   "outputs": [],
   "source": [
    "from gtts import gTTS\n",
    "from playsound import playsound"
   ]
  },
  {
   "cell_type": "code",
   "execution_count": 8,
   "id": "cad6ef08",
   "metadata": {},
   "outputs": [],
   "source": [
    "language = 'pt-br'"
   ]
  },
  {
   "cell_type": "code",
   "execution_count": 9,
   "id": "537cb276",
   "metadata": {},
   "outputs": [],
   "source": [
    "audio = gTTS(\n",
    "    text=\"se inscreva no canal\",\n",
    "    lang=language\n",
    ")"
   ]
  },
  {
   "cell_type": "code",
   "execution_count": 10,
   "id": "cca881aa",
   "metadata": {},
   "outputs": [],
   "source": [
    "audio.save('audio.mp3')\n",
    "playsound('audio.mp3')"
   ]
  }
 ],
 "metadata": {
  "kernelspec": {
   "display_name": ".venv",
   "language": "python",
   "name": "python3"
  },
  "language_info": {
   "codemirror_mode": {
    "name": "ipython",
    "version": 3
   },
   "file_extension": ".py",
   "mimetype": "text/x-python",
   "name": "python",
   "nbconvert_exporter": "python",
   "pygments_lexer": "ipython3",
   "version": "3.10.11"
  }
 },
 "nbformat": 4,
 "nbformat_minor": 5
}
