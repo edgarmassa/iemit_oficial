{
 "cells": [
  {
   "cell_type": "code",
   "execution_count": 2,
   "id": "005400fa",
   "metadata": {},
   "outputs": [
    {
     "data": {
      "text/plain": [
       "'Nome: João Silva, CPF: 123.456.789-10, Email: joao@gmail.com'"
      ]
     },
     "execution_count": 2,
     "metadata": {},
     "output_type": "execute_result"
    }
   ],
   "source": [
    "texto = \"Nome: João Silva, CPF: 123.456.789-10, Email: joao@gmail.com\"\n",
    "texto"
   ]
  },
  {
   "cell_type": "code",
   "execution_count": 3,
   "id": "4daaca6f",
   "metadata": {},
   "outputs": [],
   "source": [
    "import re"
   ]
  },
  {
   "cell_type": "code",
   "execution_count": 5,
   "id": "49203915",
   "metadata": {},
   "outputs": [
    {
     "name": "stdout",
     "output_type": "stream",
     "text": [
      "Nome: João Silva, CPF: [CPF REMOVIDO], Email: [EMAIL REMOVIDO]\n"
     ]
    }
   ],
   "source": [
    "anonimizado = re.sub(r'\\d{3}\\.\\d{3}\\.\\d{3}-\\d{2}', '[CPF REMOVIDO]', texto)\n",
    "anonimizado = re.sub(r'\\S+@\\S+', '[EMAIL REMOVIDO]', anonimizado)\n",
    "print(anonimizado)"
   ]
  }
 ],
 "metadata": {
  "kernelspec": {
   "display_name": "Python 3",
   "language": "python",
   "name": "python3"
  },
  "language_info": {
   "codemirror_mode": {
    "name": "ipython",
    "version": 3
   },
   "file_extension": ".py",
   "mimetype": "text/x-python",
   "name": "python",
   "nbconvert_exporter": "python",
   "pygments_lexer": "ipython3",
   "version": "3.10.11"
  }
 },
 "nbformat": 4,
 "nbformat_minor": 5
}
