{
 "cells": [
  {
   "cell_type": "code",
   "execution_count": 9,
   "id": "f3e78411",
   "metadata": {},
   "outputs": [],
   "source": [
    "import pywhatkit"
   ]
  },
  {
   "cell_type": "code",
   "execution_count": null,
   "id": "c8607a3a",
   "metadata": {},
   "outputs": [],
   "source": [
    "# Código País, DDD e Número\n",
    "numero = \"+5511947002757\""
   ]
  },
  {
   "cell_type": "code",
   "execution_count": 10,
   "id": "7d26705b",
   "metadata": {},
   "outputs": [],
   "source": [
    "mensagem = \"teste feito pelo python\""
   ]
  },
  {
   "cell_type": "code",
   "execution_count": 11,
   "id": "95d4087f",
   "metadata": {},
   "outputs": [],
   "source": [
    "pywhatkit.sendwhatmsg_instantly(numero, mensagem)"
   ]
  }
 ],
 "metadata": {
  "kernelspec": {
   "display_name": ".venv",
   "language": "python",
   "name": "python3"
  },
  "language_info": {
   "codemirror_mode": {
    "name": "ipython",
    "version": 3
   },
   "file_extension": ".py",
   "mimetype": "text/x-python",
   "name": "python",
   "nbconvert_exporter": "python",
   "pygments_lexer": "ipython3",
   "version": "3.10.11"
  }
 },
 "nbformat": 4,
 "nbformat_minor": 5
}
