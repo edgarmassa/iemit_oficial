{
 "cells": [
  {
   "cell_type": "code",
   "execution_count": 2,
   "id": "b5be4a62",
   "metadata": {},
   "outputs": [
    {
     "name": "stdout",
     "output_type": "stream",
     "text": [
      "Letras: 18\n",
      "Números: 0\n",
      "Símbolos: 8\n"
     ]
    }
   ],
   "source": [
    "frase = input(\"Digite uma frase: \")\n",
    "\n",
    "letras = sum(c.isalpha() for c in frase)\n",
    "numeros = sum(c.isdigit() for c in frase)\n",
    "simbolos = len(frase) - letras - numeros\n",
    "\n",
    "print(f\"Letras: {letras}\")\n",
    "print(f\"Números: {numeros}\")\n",
    "print(f\"Símbolos: {simbolos}\")\n",
    "\n",
    "#eu amo python pra c@r@mb%%"
   ]
  }
 ],
 "metadata": {
  "kernelspec": {
   "display_name": ".venv",
   "language": "python",
   "name": "python3"
  },
  "language_info": {
   "codemirror_mode": {
    "name": "ipython",
    "version": 3
   },
   "file_extension": ".py",
   "mimetype": "text/x-python",
   "name": "python",
   "nbconvert_exporter": "python",
   "pygments_lexer": "ipython3",
   "version": "3.10.11"
  }
 },
 "nbformat": 4,
 "nbformat_minor": 5
}
