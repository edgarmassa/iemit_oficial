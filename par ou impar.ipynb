{
 "cells": [
  {
   "cell_type": "code",
   "execution_count": 1,
   "id": "d145f017",
   "metadata": {},
   "outputs": [
    {
     "name": "stdout",
     "output_type": "stream",
     "text": [
      "Você jogou 5, o computador jogou 3. Total: 8\n",
      "Deu PAR!\n"
     ]
    }
   ],
   "source": [
    "import random\n",
    "\n",
    "jogador = int(input(\"Digite um número: \"))\n",
    "computador = random.randint(0, 10)\n",
    "\n",
    "total = jogador + computador\n",
    "\n",
    "print(f\"Você jogou {jogador}, o computador jogou {computador}. Total: {total}\")\n",
    "\n",
    "if total % 2 == 0:\n",
    "    print(\"Deu PAR!\")\n",
    "else:\n",
    "    print(\"Deu ÍMPAR!\")"
   ]
  }
 ],
 "metadata": {
  "kernelspec": {
   "display_name": ".venv",
   "language": "python",
   "name": "python3"
  },
  "language_info": {
   "codemirror_mode": {
    "name": "ipython",
    "version": 3
   },
   "file_extension": ".py",
   "mimetype": "text/x-python",
   "name": "python",
   "nbconvert_exporter": "python",
   "pygments_lexer": "ipython3",
   "version": "3.10.11"
  }
 },
 "nbformat": 4,
 "nbformat_minor": 5
}
