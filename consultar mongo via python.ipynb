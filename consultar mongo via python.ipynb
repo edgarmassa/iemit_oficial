{
 "cells": [
  {
   "cell_type": "code",
   "execution_count": 3,
   "metadata": {},
   "outputs": [],
   "source": [
    "import pymongo\n",
    "import pandas as pd"
   ]
  },
  {
   "cell_type": "code",
   "execution_count": 4,
   "metadata": {},
   "outputs": [],
   "source": [
    "ConexaoDB = \"mongodb://localhost:27017\"\n",
    "CriarConexao = pymongo.MongoClient(ConexaoDB)"
   ]
  },
  {
   "cell_type": "code",
   "execution_count": 5,
   "metadata": {},
   "outputs": [
    {
     "data": {
      "text/plain": [
       "['IEM_IT', 'admin', 'config', 'local']"
      ]
     },
     "execution_count": 5,
     "metadata": {},
     "output_type": "execute_result"
    }
   ],
   "source": [
    "lista = CriarConexao.list_database_names()\n",
    "lista"
   ]
  },
  {
   "cell_type": "code",
   "execution_count": 6,
   "metadata": {},
   "outputs": [],
   "source": [
    "colecao = CriarConexao['IEM_IT']['Pedidos']"
   ]
  },
  {
   "cell_type": "code",
   "execution_count": 7,
   "metadata": {},
   "outputs": [],
   "source": [
    "#FIND( {}, {} )\n",
    "\n",
    "filtro = {}\n",
    "projection = {\"_id\": 1, \"cliente\": 2, \"quantidade\": 3, \"preco_unitario\": 4}"
   ]
  },
  {
   "cell_type": "code",
   "execution_count": 8,
   "metadata": {},
   "outputs": [],
   "source": [
    "resultado = colecao.find( filtro, projection )"
   ]
  },
  {
   "cell_type": "code",
   "execution_count": 9,
   "metadata": {},
   "outputs": [
    {
     "data": {
      "text/plain": [
       "[{'_id': ObjectId('67c878cb7418e064171fa25b'),\n",
       "  'cliente': 'João Silva',\n",
       "  'quantidade': 1,\n",
       "  'preco_unitario': 7500.0},\n",
       " {'_id': ObjectId('67c878cb7418e064171fa25c'),\n",
       "  'cliente': 'Maria Oliveira',\n",
       "  'quantidade': 2,\n",
       "  'preco_unitario': 4500.0},\n",
       " {'_id': ObjectId('67c878cb7418e064171fa25d'),\n",
       "  'cliente': 'Carlos Mendes',\n",
       "  'quantidade': 1,\n",
       "  'preco_unitario': 2500.0}]"
      ]
     },
     "execution_count": 9,
     "metadata": {},
     "output_type": "execute_result"
    }
   ],
   "source": [
    "#resultado\n",
    "\n",
    "ListaTudo = list(resultado)\n",
    "ListaTudo"
   ]
  },
  {
   "cell_type": "code",
   "execution_count": 10,
   "metadata": {},
   "outputs": [
    {
     "data": {
      "text/html": [
       "<div>\n",
       "<style scoped>\n",
       "    .dataframe tbody tr th:only-of-type {\n",
       "        vertical-align: middle;\n",
       "    }\n",
       "\n",
       "    .dataframe tbody tr th {\n",
       "        vertical-align: top;\n",
       "    }\n",
       "\n",
       "    .dataframe thead th {\n",
       "        text-align: right;\n",
       "    }\n",
       "</style>\n",
       "<table border=\"1\" class=\"dataframe\">\n",
       "  <thead>\n",
       "    <tr style=\"text-align: right;\">\n",
       "      <th></th>\n",
       "      <th>_id</th>\n",
       "      <th>cliente</th>\n",
       "      <th>quantidade</th>\n",
       "      <th>preco_unitario</th>\n",
       "    </tr>\n",
       "  </thead>\n",
       "  <tbody>\n",
       "    <tr>\n",
       "      <th>0</th>\n",
       "      <td>67c878cb7418e064171fa25b</td>\n",
       "      <td>João Silva</td>\n",
       "      <td>1</td>\n",
       "      <td>7500.0</td>\n",
       "    </tr>\n",
       "    <tr>\n",
       "      <th>1</th>\n",
       "      <td>67c878cb7418e064171fa25c</td>\n",
       "      <td>Maria Oliveira</td>\n",
       "      <td>2</td>\n",
       "      <td>4500.0</td>\n",
       "    </tr>\n",
       "    <tr>\n",
       "      <th>2</th>\n",
       "      <td>67c878cb7418e064171fa25d</td>\n",
       "      <td>Carlos Mendes</td>\n",
       "      <td>1</td>\n",
       "      <td>2500.0</td>\n",
       "    </tr>\n",
       "  </tbody>\n",
       "</table>\n",
       "</div>"
      ],
      "text/plain": [
       "                        _id         cliente  quantidade  preco_unitario\n",
       "0  67c878cb7418e064171fa25b      João Silva           1          7500.0\n",
       "1  67c878cb7418e064171fa25c  Maria Oliveira           2          4500.0\n",
       "2  67c878cb7418e064171fa25d   Carlos Mendes           1          2500.0"
      ]
     },
     "execution_count": 10,
     "metadata": {},
     "output_type": "execute_result"
    }
   ],
   "source": [
    "dataframe = pd.DataFrame( ListaTudo )\n",
    "\n",
    "dataframe"
   ]
  },
  {
   "cell_type": "code",
   "execution_count": 11,
   "metadata": {},
   "outputs": [],
   "source": [
    "dataframe.to_excel('resultado.xlsx')"
   ]
  }
 ],
 "metadata": {
  "kernelspec": {
   "display_name": "venv",
   "language": "python",
   "name": "python3"
  },
  "language_info": {
   "codemirror_mode": {
    "name": "ipython",
    "version": 3
   },
   "file_extension": ".py",
   "mimetype": "text/x-python",
   "name": "python",
   "nbconvert_exporter": "python",
   "pygments_lexer": "ipython3",
   "version": "3.10.11"
  }
 },
 "nbformat": 4,
 "nbformat_minor": 2
}
