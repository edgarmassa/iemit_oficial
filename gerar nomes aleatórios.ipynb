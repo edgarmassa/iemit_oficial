{
 "cells": [
  {
   "cell_type": "code",
   "execution_count": 1,
   "id": "ef4d0e9f",
   "metadata": {},
   "outputs": [],
   "source": [
    "import random"
   ]
  },
  {
   "cell_type": "code",
   "execution_count": 2,
   "id": "a1d05dcb",
   "metadata": {},
   "outputs": [],
   "source": [
    "primeiros = [\"João\", \"Ana\", \"Carlos\", \"Luna\", \"Rafa\"]\n",
    "ultimos = [\"Silva\", \"Souza\", \"Lima\", \"Costa\", \"Oliveira\"]"
   ]
  },
  {
   "cell_type": "code",
   "execution_count": 3,
   "id": "eb8b6f55",
   "metadata": {},
   "outputs": [],
   "source": [
    "nome = random.choice(primeiros) + \" \" + random.choice(ultimos)"
   ]
  },
  {
   "cell_type": "code",
   "execution_count": 4,
   "id": "8062aa00",
   "metadata": {},
   "outputs": [
    {
     "name": "stdout",
     "output_type": "stream",
     "text": [
      "Nome gerado: Ana Silva\n"
     ]
    }
   ],
   "source": [
    "print(\"Nome gerado:\", nome)"
   ]
  }
 ],
 "metadata": {
  "kernelspec": {
   "display_name": ".venv",
   "language": "python",
   "name": "python3"
  },
  "language_info": {
   "codemirror_mode": {
    "name": "ipython",
    "version": 3
   },
   "file_extension": ".py",
   "mimetype": "text/x-python",
   "name": "python",
   "nbconvert_exporter": "python",
   "pygments_lexer": "ipython3",
   "version": "3.10.11"
  }
 },
 "nbformat": 4,
 "nbformat_minor": 5
}
