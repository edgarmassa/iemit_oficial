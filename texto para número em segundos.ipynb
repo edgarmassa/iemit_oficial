{
 "cells": [
  {
   "cell_type": "code",
   "execution_count": 1,
   "id": "44277b88",
   "metadata": {},
   "outputs": [
    {
     "data": {
      "text/plain": [
       "['R$ 1.200,50', '980,00 BRL', 'R$2.315,99']"
      ]
     },
     "execution_count": 1,
     "metadata": {},
     "output_type": "execute_result"
    }
   ],
   "source": [
    "valores = [\"R$ 1.200,50\", \"980,00 BRL\", \"R$2.315,99\"]\n",
    "valores"
   ]
  },
  {
   "cell_type": "code",
   "execution_count": 2,
   "id": "c52cdda9",
   "metadata": {},
   "outputs": [
    {
     "name": "stdout",
     "output_type": "stream",
     "text": [
      "[1200.5, 980.0, 2315.99]\n"
     ]
    }
   ],
   "source": [
    "valores_convertidos = [\n",
    "    float(\n",
    "        v.replace(\"R$\", \"\").\n",
    "          replace(\"BRL\", \"\").\n",
    "          replace(\".\", \"\").\n",
    "          replace(\",\", \".\").\n",
    "          strip()\n",
    "    ) for v in valores\n",
    "]\n",
    "\n",
    "print(valores_convertidos)\n"
   ]
  }
 ],
 "metadata": {
  "kernelspec": {
   "display_name": "Python 3",
   "language": "python",
   "name": "python3"
  },
  "language_info": {
   "codemirror_mode": {
    "name": "ipython",
    "version": 3
   },
   "file_extension": ".py",
   "mimetype": "text/x-python",
   "name": "python",
   "nbconvert_exporter": "python",
   "pygments_lexer": "ipython3",
   "version": "3.10.11"
  }
 },
 "nbformat": 4,
 "nbformat_minor": 5
}
