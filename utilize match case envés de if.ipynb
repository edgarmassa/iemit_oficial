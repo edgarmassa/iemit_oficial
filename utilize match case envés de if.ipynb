{
 "cells": [
  {
   "cell_type": "code",
   "execution_count": null,
   "metadata": {},
   "outputs": [],
   "source": [
    "# Código antigo com IFs\n",
    "comando = \"iniciar\"\n",
    "\n",
    "if comando == \"iniciar\":\n",
    "    print(\"Iniciando...\")\n",
    "elif comando == \"parar\":\n",
    "    print(\"Parando...\")\n",
    "elif comando == \"restartar\":\n",
    "    print(\"Reiniciando...\")\n",
    "else:\n",
    "    print(\"Comando inválido!\")\n"
   ]
  },
  {
   "cell_type": "code",
   "execution_count": null,
   "metadata": {},
   "outputs": [],
   "source": [
    "# MATCH CASE"
   ]
  },
  {
   "cell_type": "code",
   "execution_count": 9,
   "metadata": {},
   "outputs": [
    {
     "name": "stdout",
     "output_type": "stream",
     "text": [
      "Iniciando...\n"
     ]
    }
   ],
   "source": [
    "# Código novo com match case\n",
    "comando = \"iniciar\"\n",
    "\n",
    "match comando:\n",
    "    case \"iniciar\":\n",
    "        print(\"Iniciando...\")\n",
    "    case \"parar\":\n",
    "        print(\"Parando...\")\n",
    "    case \"restartar\":\n",
    "        print(\"Reiniciando...\")\n",
    "    case _:\n",
    "        print(\"Comando inválido!\")\n"
   ]
  }
 ],
 "metadata": {
  "kernelspec": {
   "display_name": ".venv",
   "language": "python",
   "name": "python3"
  },
  "language_info": {
   "codemirror_mode": {
    "name": "ipython",
    "version": 3
   },
   "file_extension": ".py",
   "mimetype": "text/x-python",
   "name": "python",
   "nbconvert_exporter": "python",
   "pygments_lexer": "ipython3",
   "version": "3.10.11"
  }
 },
 "nbformat": 4,
 "nbformat_minor": 2
}
