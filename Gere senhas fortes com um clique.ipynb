{
 "cells": [
  {
   "cell_type": "code",
   "execution_count": 1,
   "id": "fec4c1bb",
   "metadata": {},
   "outputs": [],
   "source": [
    "import random\n",
    "import string"
   ]
  },
  {
   "cell_type": "code",
   "execution_count": 2,
   "id": "78b90773",
   "metadata": {},
   "outputs": [],
   "source": [
    "def gerar_senha(tamanho=12):\n",
    "    caracteres = string.ascii_letters + string.digits + string.punctuation\n",
    "    return ''.join(random.choice(caracteres) for _ in range(tamanho))"
   ]
  },
  {
   "cell_type": "code",
   "execution_count": 3,
   "id": "88ddd35e",
   "metadata": {},
   "outputs": [
    {
     "name": "stdout",
     "output_type": "stream",
     "text": [
      "zBDZkmkxM\"KF\n"
     ]
    }
   ],
   "source": [
    "print(gerar_senha())"
   ]
  }
 ],
 "metadata": {
  "kernelspec": {
   "display_name": "Python 3",
   "language": "python",
   "name": "python3"
  },
  "language_info": {
   "codemirror_mode": {
    "name": "ipython",
    "version": 3
   },
   "file_extension": ".py",
   "mimetype": "text/x-python",
   "name": "python",
   "nbconvert_exporter": "python",
   "pygments_lexer": "ipython3",
   "version": "3.10.11"
  }
 },
 "nbformat": 4,
 "nbformat_minor": 5
}
