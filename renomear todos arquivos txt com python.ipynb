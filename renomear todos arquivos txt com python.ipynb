{
 "cells": [
  {
   "cell_type": "code",
   "execution_count": 1,
   "id": "d5c8e89e",
   "metadata": {},
   "outputs": [],
   "source": [
    "import os"
   ]
  },
  {
   "cell_type": "code",
   "execution_count": 7,
   "id": "4d7e7b49",
   "metadata": {},
   "outputs": [],
   "source": [
    "pasta = \"C:/Users/edgar/Desktop/Pasta\""
   ]
  },
  {
   "cell_type": "code",
   "execution_count": 8,
   "id": "cb2158a8",
   "metadata": {},
   "outputs": [],
   "source": [
    "for i, nome in enumerate(os.listdir(pasta), start=1):\n",
    "    novo_nome = f\"arquivo_{i}.txt\"\n",
    "    os.rename(os.path.join(pasta, nome), os.path.join(pasta, novo_nome))"
   ]
  }
 ],
 "metadata": {
  "kernelspec": {
   "display_name": "Python 3",
   "language": "python",
   "name": "python3"
  },
  "language_info": {
   "codemirror_mode": {
    "name": "ipython",
    "version": 3
   },
   "file_extension": ".py",
   "mimetype": "text/x-python",
   "name": "python",
   "nbconvert_exporter": "python",
   "pygments_lexer": "ipython3",
   "version": "3.10.11"
  }
 },
 "nbformat": 4,
 "nbformat_minor": 5
}
