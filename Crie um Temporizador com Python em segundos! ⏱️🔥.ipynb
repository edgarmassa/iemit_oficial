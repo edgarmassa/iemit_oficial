{
 "cells": [
  {
   "cell_type": "code",
   "execution_count": 2,
   "id": "271d2cc6",
   "metadata": {},
   "outputs": [],
   "source": [
    "import time"
   ]
  },
  {
   "cell_type": "code",
   "execution_count": 3,
   "id": "a5f7062f",
   "metadata": {},
   "outputs": [],
   "source": [
    "segundos = int(input(\"Quantos segundos? \"))"
   ]
  },
  {
   "cell_type": "code",
   "execution_count": 4,
   "id": "eb6242a3",
   "metadata": {},
   "outputs": [
    {
     "name": "stdout",
     "output_type": "stream",
     "text": [
      "5\n",
      "4\n",
      "3\n",
      "2\n",
      "1\n",
      "⏰ Tempo esgotado!\n"
     ]
    }
   ],
   "source": [
    "for i in range(segundos, 0, -1):\n",
    "    print(i)\n",
    "    time.sleep(1)\n",
    "print(\"⏰ Tempo esgotado!\")"
   ]
  }
 ],
 "metadata": {
  "kernelspec": {
   "display_name": ".venv",
   "language": "python",
   "name": "python3"
  },
  "language_info": {
   "codemirror_mode": {
    "name": "ipython",
    "version": 3
   },
   "file_extension": ".py",
   "mimetype": "text/x-python",
   "name": "python",
   "nbconvert_exporter": "python",
   "pygments_lexer": "ipython3",
   "version": "3.10.11"
  }
 },
 "nbformat": 4,
 "nbformat_minor": 5
}
