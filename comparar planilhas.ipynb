{
 "cells": [
  {
   "cell_type": "code",
   "execution_count": 1,
   "metadata": {},
   "outputs": [],
   "source": [
    "import pandas as pd"
   ]
  },
  {
   "cell_type": "code",
   "execution_count": 3,
   "metadata": {},
   "outputs": [],
   "source": [
    "def comparaEstrutura_Excel(modelo_1, modelo_2):\n",
    "    df_model_1 = pd.read_excel(modelo_1)\n",
    "    df_model_2 = pd.read_excel(modelo_2)\n",
    "\n",
    "    if set(df_model_1.columns) == set(df_model_2.columns):\n",
    "        print(\"A estrutura é a mesma! TÁ OK\")\n",
    "    else:\n",
    "        colunas_faltantes = set(df_model_1.columns) - set(df_model_2.columns)\n",
    "        colunas_adicionais = set(df_model_2.columns) - set(df_model_1.columns) \n",
    "\n",
    "        if colunas_faltantes:\n",
    "            print(f\" As colunas {colunas_faltantes} estão faltando ao novo arquivo.\")\n",
    "        if colunas_adicionais:\n",
    "            print(f\" As colunas {colunas_adicionais} foram adicionadas ao novo arquivo.\")\n",
    "\n"
   ]
  },
  {
   "cell_type": "code",
   "execution_count": 5,
   "metadata": {},
   "outputs": [
    {
     "name": "stdout",
     "output_type": "stream",
     "text": [
      "A estrutura é a mesma! TÁ OK\n"
     ]
    }
   ],
   "source": [
    "#Vamos usar a função\n",
    "comparaEstrutura_Excel('tabela_vendas.xlsx', 'tabela_vendas_nova.xlsx')"
   ]
  }
 ],
 "metadata": {
  "kernelspec": {
   "display_name": "venv",
   "language": "python",
   "name": "python3"
  },
  "language_info": {
   "codemirror_mode": {
    "name": "ipython",
    "version": 3
   },
   "file_extension": ".py",
   "mimetype": "text/x-python",
   "name": "python",
   "nbconvert_exporter": "python",
   "pygments_lexer": "ipython3",
   "version": "3.10.11"
  }
 },
 "nbformat": 4,
 "nbformat_minor": 2
}
