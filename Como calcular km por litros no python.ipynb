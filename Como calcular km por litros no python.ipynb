{
 "cells": [
  {
   "cell_type": "code",
   "execution_count": 7,
   "id": "25b6bda7",
   "metadata": {},
   "outputs": [],
   "source": [
    "km_inicial = 96037"
   ]
  },
  {
   "cell_type": "code",
   "execution_count": 8,
   "id": "2cadd343",
   "metadata": {},
   "outputs": [],
   "source": [
    "km_final = 96450"
   ]
  },
  {
   "cell_type": "code",
   "execution_count": 9,
   "id": "b5739e33",
   "metadata": {},
   "outputs": [],
   "source": [
    "litros_abastecidos = 41"
   ]
  },
  {
   "cell_type": "code",
   "execution_count": 11,
   "id": "b585f153",
   "metadata": {},
   "outputs": [
    {
     "data": {
      "text/plain": [
       "413"
      ]
     },
     "execution_count": 11,
     "metadata": {},
     "output_type": "execute_result"
    }
   ],
   "source": [
    "total_kms = km_final - km_inicial\n",
    "total_kms"
   ]
  },
  {
   "cell_type": "code",
   "execution_count": 12,
   "id": "eadd6e91",
   "metadata": {},
   "outputs": [
    {
     "data": {
      "text/plain": [
       "10.073170731707316"
      ]
     },
     "execution_count": 12,
     "metadata": {},
     "output_type": "execute_result"
    }
   ],
   "source": [
    "kms_por_litro = total_kms / litros_abastecidos\n",
    "kms_por_litro"
   ]
  }
 ],
 "metadata": {
  "kernelspec": {
   "display_name": ".venv",
   "language": "python",
   "name": "python3"
  },
  "language_info": {
   "codemirror_mode": {
    "name": "ipython",
    "version": 3
   },
   "file_extension": ".py",
   "mimetype": "text/x-python",
   "name": "python",
   "nbconvert_exporter": "python",
   "pygments_lexer": "ipython3",
   "version": "3.10.11"
  }
 },
 "nbformat": 4,
 "nbformat_minor": 5
}
