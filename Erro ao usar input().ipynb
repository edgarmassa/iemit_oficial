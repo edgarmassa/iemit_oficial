{
 "cells": [
  {
   "cell_type": "code",
   "execution_count": 2,
   "id": "f5027fc0",
   "metadata": {},
   "outputs": [
    {
     "ename": "ValueError",
     "evalue": "invalid literal for int() with base 10: 'ç'",
     "output_type": "error",
     "traceback": [
      "\u001b[1;31m---------------------------------------------------------------------------\u001b[0m",
      "\u001b[1;31mValueError\u001b[0m                                Traceback (most recent call last)",
      "Cell \u001b[1;32mIn[2], line 3\u001b[0m\n\u001b[0;32m      1\u001b[0m entrada \u001b[38;5;241m=\u001b[39m \u001b[38;5;28minput\u001b[39m(\u001b[38;5;124m\"\u001b[39m\u001b[38;5;124mDigite um número: \u001b[39m\u001b[38;5;124m\"\u001b[39m)\n\u001b[1;32m----> 3\u001b[0m numero \u001b[38;5;241m=\u001b[39m \u001b[38;5;28;43mint\u001b[39;49m\u001b[43m(\u001b[49m\u001b[43mentrada\u001b[49m\u001b[43m)\u001b[49m\n\u001b[0;32m      4\u001b[0m numero\n",
      "\u001b[1;31mValueError\u001b[0m: invalid literal for int() with base 10: 'ç'"
     ]
    }
   ],
   "source": [
    "entrada = input(\"Digite um número: \")\n",
    "\n",
    "numero = int(entrada)\n",
    "numero"
   ]
  },
  {
   "cell_type": "code",
   "execution_count": 3,
   "id": "3be5db31",
   "metadata": {},
   "outputs": [
    {
     "name": "stdout",
     "output_type": "stream",
     "text": [
      "⚠️ Isso não é um número!\n"
     ]
    }
   ],
   "source": [
    "entrada = input(\"Digite um número: \")\n",
    "\n",
    "try:\n",
    "    numero = int(entrada)\n",
    "    print(f\"O dobro é: {numero * 2}\")\n",
    "except ValueError:\n",
    "    print(\"⚠️ Isso não é um número!\")\n"
   ]
  }
 ],
 "metadata": {
  "kernelspec": {
   "display_name": ".venv",
   "language": "python",
   "name": "python3"
  },
  "language_info": {
   "codemirror_mode": {
    "name": "ipython",
    "version": 3
   },
   "file_extension": ".py",
   "mimetype": "text/x-python",
   "name": "python",
   "nbconvert_exporter": "python",
   "pygments_lexer": "ipython3",
   "version": "3.10.11"
  }
 },
 "nbformat": 4,
 "nbformat_minor": 5
}
