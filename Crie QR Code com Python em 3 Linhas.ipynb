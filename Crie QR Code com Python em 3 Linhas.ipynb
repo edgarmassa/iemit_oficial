{
 "cells": [
  {
   "cell_type": "code",
   "execution_count": 4,
   "id": "b76b0f1a",
   "metadata": {},
   "outputs": [],
   "source": [
    "import qrcode"
   ]
  },
  {
   "cell_type": "code",
   "execution_count": 5,
   "id": "82c5d7a0",
   "metadata": {},
   "outputs": [],
   "source": [
    "qr = qrcode.make(\"https://www.youtube.com/@IEMITOficial\")"
   ]
  },
  {
   "cell_type": "code",
   "execution_count": 6,
   "id": "f3d9bf7e",
   "metadata": {},
   "outputs": [],
   "source": [
    "qr.save(\"qrcode.png\")"
   ]
  }
 ],
 "metadata": {
  "kernelspec": {
   "display_name": ".venv",
   "language": "python",
   "name": "python3"
  },
  "language_info": {
   "codemirror_mode": {
    "name": "ipython",
    "version": 3
   },
   "file_extension": ".py",
   "mimetype": "text/x-python",
   "name": "python",
   "nbconvert_exporter": "python",
   "pygments_lexer": "ipython3",
   "version": "3.10.11"
  }
 },
 "nbformat": 4,
 "nbformat_minor": 5
}
