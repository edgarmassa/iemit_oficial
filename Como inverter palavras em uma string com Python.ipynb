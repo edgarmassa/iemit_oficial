{
 "cells": [
  {
   "cell_type": "code",
   "execution_count": 3,
   "id": "1cd31bcb",
   "metadata": {},
   "outputs": [],
   "source": [
    "frase = \"Python é demais\""
   ]
  },
  {
   "cell_type": "code",
   "execution_count": 4,
   "id": "56f3624a",
   "metadata": {},
   "outputs": [],
   "source": [
    "invertida = ' '.join(frase.split()[::-1])"
   ]
  },
  {
   "cell_type": "code",
   "execution_count": 6,
   "id": "4b04eb32",
   "metadata": {},
   "outputs": [
    {
     "name": "stdout",
     "output_type": "stream",
     "text": [
      "demais é Python\n"
     ]
    }
   ],
   "source": [
    "print(invertida)"
   ]
  }
 ],
 "metadata": {
  "kernelspec": {
   "display_name": ".venv",
   "language": "python",
   "name": "python3"
  },
  "language_info": {
   "codemirror_mode": {
    "name": "ipython",
    "version": 3
   },
   "file_extension": ".py",
   "mimetype": "text/x-python",
   "name": "python",
   "nbconvert_exporter": "python",
   "pygments_lexer": "ipython3",
   "version": "3.10.11"
  }
 },
 "nbformat": 4,
 "nbformat_minor": 5
}
