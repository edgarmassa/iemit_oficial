{
 "cells": [
  {
   "cell_type": "code",
   "execution_count": 4,
   "id": "4c7998d8",
   "metadata": {},
   "outputs": [
    {
     "name": "stdout",
     "output_type": "stream",
     "text": [
      "Senha incorreta\n",
      "Senha incorreta\n",
      "Senha incorreta\n",
      "Senha incorreta\n",
      "VOCE ACERTOU!\n"
     ]
    }
   ],
   "source": [
    "senha = input(\"digite a senha: \\n\")\n",
    "\n",
    "while senha != \"123456\":\n",
    "    print('Senha incorreta')\n",
    "    senha = input(\"digite a senha: \\n\")\n",
    "\n",
    "print('VOCE ACERTOU!')\n"
   ]
  }
 ],
 "metadata": {
  "kernelspec": {
   "display_name": ".venv",
   "language": "python",
   "name": "python3"
  },
  "language_info": {
   "codemirror_mode": {
    "name": "ipython",
    "version": 3
   },
   "file_extension": ".py",
   "mimetype": "text/x-python",
   "name": "python",
   "nbconvert_exporter": "python",
   "pygments_lexer": "ipython3",
   "version": "3.10.11"
  }
 },
 "nbformat": 4,
 "nbformat_minor": 5
}
